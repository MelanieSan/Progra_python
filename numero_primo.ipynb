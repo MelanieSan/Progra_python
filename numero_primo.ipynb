{
 "cells": [
  {
   "cell_type": "code",
   "execution_count": 1,
   "id": "b0600aa6-7c5a-4185-9a6e-a4a653797d53",
   "metadata": {},
   "outputs": [
    {
     "name": "stdin",
     "output_type": "stream",
     "text": [
      "Ingrese un número para verificar si es primo:  5\n"
     ]
    },
    {
     "name": "stdout",
     "output_type": "stream",
     "text": [
      "5 es un número primo.\n"
     ]
    }
   ],
   "source": [
    "def es_primo(numero):\n",
    "    if numero <= 1:\n",
    "        return False\n",
    "    elif numero == 2:\n",
    "        return True\n",
    "    elif numero % 2 == 0:\n",
    "        return False\n",
    "    else:\n",
    "       \n",
    "        for i in range(3, int(numero**0.5) + 1, 2):\n",
    "            if numero % i == 0:\n",
    "                return False\n",
    "        return True\n",
    "\n",
    "\n",
    "numero_ingresado = int(input(\"Ingrese un número para verificar si es primo: \"))\n",
    "\n",
    "\n",
    "if es_primo(numero_ingresado):\n",
    "    print(f\"{numero_ingresado} es un número primo.\")\n",
    "else:\n",
    "    print(f\"{numero_ingresado} no es un número primo.\")\n"
   ]
  },
  {
   "cell_type": "code",
   "execution_count": null,
   "id": "3cf09c23-5ebb-4b67-9f6d-154a638eb8eb",
   "metadata": {},
   "outputs": [],
   "source": []
  }
 ],
 "metadata": {
  "kernelspec": {
   "display_name": "anaconda-panel-2023.05-py310",
   "language": "python",
   "name": "conda-env-anaconda-panel-2023.05-py310-py"
  },
  "language_info": {
   "codemirror_mode": {
    "name": "ipython",
    "version": 3
   },
   "file_extension": ".py",
   "mimetype": "text/x-python",
   "name": "python",
   "nbconvert_exporter": "python",
   "pygments_lexer": "ipython3",
   "version": "3.11.5"
  }
 },
 "nbformat": 4,
 "nbformat_minor": 5
}
