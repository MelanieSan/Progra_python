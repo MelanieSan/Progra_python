{
 "cells": [
  {
   "cell_type": "code",
   "execution_count": 4,
   "id": "41c29de3-effc-4fb7-a730-c442d02edd63",
   "metadata": {},
   "outputs": [],
   "source": [
    "limite_credito = 80000.00"
   ]
  },
  {
   "cell_type": "code",
   "execution_count": 6,
   "id": "2f34338a-c878-46f1-9e03-896c9ffa37e1",
   "metadata": {},
   "outputs": [],
   "source": [
    "monto_compra = 65000.00\n",
    "credito_ejercido = 40000.00"
   ]
  },
  {
   "cell_type": "code",
   "execution_count": 8,
   "id": "2d942224-59b5-47f4-88cd-f339843ea98f",
   "metadata": {},
   "outputs": [],
   "source": [
    "\n",
    "saldo_disponible = limite_credito - credito_ejercido\n"
   ]
  },
  {
   "cell_type": "code",
   "execution_count": 10,
   "id": "e6ea5d1e-cf92-4522-80dc-79148f16d498",
   "metadata": {},
   "outputs": [],
   "source": [
    "\n",
    "compra_menor_a_disponible = monto_compra < saldo_disponible"
   ]
  },
  {
   "cell_type": "code",
   "execution_count": 12,
   "id": "ef4e5074-a6ad-4d6a-89d0-c4aeba9599d0",
   "metadata": {},
   "outputs": [],
   "source": [
    "no_mayor_80_del_limite = not (monto_compra > (limite_credito * 0.80))\n"
   ]
  },
  {
   "cell_type": "code",
   "execution_count": 14,
   "id": "e6611bf5-c998-4bed-8b4d-d772c1e9f1c2",
   "metadata": {},
   "outputs": [],
   "source": [
    "hay_sobregiro = monto_compra > saldo_disponible"
   ]
  },
  {
   "cell_type": "code",
   "execution_count": 16,
   "id": "5e3eb6a7-1eb3-400f-923e-c7d5208d7d80",
   "metadata": {},
   "outputs": [],
   "source": [
    "sobregiro = monto_compra - saldo_disponible if hay_sobregiro else 0.00"
   ]
  },
  {
   "cell_type": "code",
   "execution_count": 18,
   "id": "a6db248e-a028-4e3a-8adf-782cef34d8d5",
   "metadata": {},
   "outputs": [],
   "source": [
    "antiguedad = 1\n",
    "antiguedad_menor_2 = antiguedad < 2"
   ]
  },
  {
   "cell_type": "code",
   "execution_count": 30,
   "id": "c7eb5a14-22d6-44c0-afe9-0a63e6c37d4c",
   "metadata": {},
   "outputs": [],
   "source": [
    "autorizada = autorizada or (antiguedad_menor_2 and not hay_sobregiro)"
   ]
  },
  {
   "cell_type": "code",
   "execution_count": 24,
   "id": "5a782be8-0ad3-4d6b-b632-1657f7f007d5",
   "metadata": {},
   "outputs": [],
   "source": [
    "proporcion_sobregiro = sobregiro / monto_compra if hay_sobregiro else 0.00\n",
    "proporcion_sobregiro_menor_20 = proporcion_sobregiro < 0.20"
   ]
  },
  {
   "cell_type": "code",
   "execution_count": 26,
   "id": "a72b6eb0-496d-49c3-8dba-d5fb7654d1da",
   "metadata": {},
   "outputs": [],
   "source": [
    "autorizada = hay_sobregiro and proporcion_sobregiro_menor_20"
   ]
  },
  {
   "cell_type": "code",
   "execution_count": 32,
   "id": "9ca9922f-c227-4346-b6ba-a9c833b390f1",
   "metadata": {},
   "outputs": [
    {
     "name": "stdout",
     "output_type": "stream",
     "text": [
      "Saldo Disponible: 40000.0\n",
      "Compra Menor a Disponible: False\n",
      "No Mayor al 80% del Límite: False\n",
      "Hay Sobregiro: True\n",
      "Monto del Sobregiro: 25000.0\n",
      "Antigüedad Menor a 2 años: True\n",
      "Compra Autorizada: False\n"
     ]
    }
   ],
   "source": [
    "print(\"Saldo Disponible:\", saldo_disponible)\n",
    "print(\"Compra Menor a Disponible:\", compra_menor_a_disponible)\n",
    "print(\"No Mayor al 80% del Límite:\", no_mayor_80_del_limite)\n",
    "print(\"Hay Sobregiro:\", hay_sobregiro)\n",
    "print(\"Monto del Sobregiro:\", sobregiro)\n",
    "print(\"Antigüedad Menor a 2 años:\", antiguedad_menor_2)\n",
    "print(\"Compra Autorizada:\", autorizada)"
   ]
  },
  {
   "cell_type": "code",
   "execution_count": null,
   "id": "d68abccf-0928-484a-9d43-1bacfc8a4179",
   "metadata": {},
   "outputs": [],
   "source": []
  }
 ],
 "metadata": {
  "kernelspec": {
   "display_name": "anaconda-panel-2023.05-py310",
   "language": "python",
   "name": "conda-env-anaconda-panel-2023.05-py310-py"
  },
  "language_info": {
   "codemirror_mode": {
    "name": "ipython",
    "version": 3
   },
   "file_extension": ".py",
   "mimetype": "text/x-python",
   "name": "python",
   "nbconvert_exporter": "python",
   "pygments_lexer": "ipython3",
   "version": "3.11.5"
  }
 },
 "nbformat": 4,
 "nbformat_minor": 5
}
