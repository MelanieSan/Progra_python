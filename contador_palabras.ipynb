{
 "cells": [
  {
   "cell_type": "code",
   "execution_count": 2,
   "id": "c8399895-3a71-4d62-a97b-761f1a7398a7",
   "metadata": {},
   "outputs": [
    {
     "name": "stdin",
     "output_type": "stream",
     "text": [
      "Ingrese una frase:  Hola mundo\n"
     ]
    },
    {
     "name": "stdout",
     "output_type": "stream",
     "text": [
      "La frase tiene 2 palabra(s).\n"
     ]
    }
   ],
   "source": [
    "def contar_palabras(frase):\n",
    "    palabras = frase.split()\n",
    "    return len(palabras)\n",
    "\n",
    "\n",
    "frase_ingresada = input(\"Ingrese una frase: \")\n",
    "\n",
    "\n",
    "cantidad_palabras = contar_palabras(frase_ingresada)\n",
    "print(f\"La frase tiene {cantidad_palabras} palabra(s).\")\n"
   ]
  },
  {
   "cell_type": "code",
   "execution_count": null,
   "id": "6ee75145-6f01-4464-b041-b013b9356a55",
   "metadata": {},
   "outputs": [],
   "source": []
  }
 ],
 "metadata": {
  "kernelspec": {
   "display_name": "anaconda-panel-2023.05-py310",
   "language": "python",
   "name": "conda-env-anaconda-panel-2023.05-py310-py"
  },
  "language_info": {
   "codemirror_mode": {
    "name": "ipython",
    "version": 3
   },
   "file_extension": ".py",
   "mimetype": "text/x-python",
   "name": "python",
   "nbconvert_exporter": "python",
   "pygments_lexer": "ipython3",
   "version": "3.11.5"
  }
 },
 "nbformat": 4,
 "nbformat_minor": 5
}
