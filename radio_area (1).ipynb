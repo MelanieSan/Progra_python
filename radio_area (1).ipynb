{
 "cells": [
  {
   "cell_type": "code",
   "execution_count": 8,
   "id": "e5e59d6b-3416-4cfb-9744-a1d0ba826281",
   "metadata": {},
   "outputs": [
    {
     "name": "stdout",
     "output_type": "stream",
     "text": [
      "El área del círculo con diámetro 10 es: 78.53981633974483\n"
     ]
    }
   ],
   "source": [
    "import math\n",
    "\n",
    "def radio_area(d):\n",
    "   \n",
    "    radio = d / 2\n",
    "\n",
    "   \n",
    "    area = math.pi * radio**2\n",
    "\n",
    "   \n",
    "    return area\n",
    "\n",
    "\n",
    "diametro = 10\n",
    "resultado = radio_area(diametro)\n",
    "\n",
    "\n",
    "print(f\"El área del círculo con diámetro {diametro} es: {resultado}\")\n"
   ]
  },
  {
   "cell_type": "code",
   "execution_count": null,
   "id": "826fb6aa-f79a-4be3-b24d-c19b84d19cf1",
   "metadata": {},
   "outputs": [],
   "source": []
  }
 ],
 "metadata": {
  "kernelspec": {
   "display_name": "anaconda-panel-2023.05-py310",
   "language": "python",
   "name": "conda-env-anaconda-panel-2023.05-py310-py"
  },
  "language_info": {
   "codemirror_mode": {
    "name": "ipython",
    "version": 3
   },
   "file_extension": ".py",
   "mimetype": "text/x-python",
   "name": "python",
   "nbconvert_exporter": "python",
   "pygments_lexer": "ipython3",
   "version": "3.11.5"
  }
 },
 "nbformat": 4,
 "nbformat_minor": 5
}
