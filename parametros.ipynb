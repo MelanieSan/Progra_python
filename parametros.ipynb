{
 "cells": [
  {
   "cell_type": "code",
   "execution_count": 13,
   "id": "293243d3-ab61-471b-bb43-89d719ebe07c",
   "metadata": {},
   "outputs": [
    {
     "name": "stdout",
     "output_type": "stream",
     "text": [
      "El segundo valor es mayor que el primero.\n"
     ]
    }
   ],
   "source": [
    "def si_parametros_si_retorno(val1, val2):\n",
    "   \n",
    "    if val1 > val2:\n",
    "        resultado = \"El primer valor es mayor que el segundo.\"\n",
    "    elif val1 < val2:\n",
    "        resultado = \"El segundo valor es mayor que el primero.\"\n",
    "    else:\n",
    "        resultado = \"Ambos valores son iguales.\"\n",
    "\n",
    "   \n",
    "    return resultado\n",
    "\n",
    "\n",
    "valor1 = 5\n",
    "valor2 = 8\n",
    "resultado_funcion = si_parametros_si_retorno(valor1, valor2)\n",
    "\n",
    "\n",
    "print(resultado_funcion)\n"
   ]
  },
  {
   "cell_type": "code",
   "execution_count": null,
   "id": "8a665ba4-f917-4b12-9f9c-21ecd08c57cd",
   "metadata": {},
   "outputs": [],
   "source": []
  }
 ],
 "metadata": {
  "kernelspec": {
   "display_name": "anaconda-panel-2023.05-py310",
   "language": "python",
   "name": "conda-env-anaconda-panel-2023.05-py310-py"
  },
  "language_info": {
   "codemirror_mode": {
    "name": "ipython",
    "version": 3
   },
   "file_extension": ".py",
   "mimetype": "text/x-python",
   "name": "python",
   "nbconvert_exporter": "python",
   "pygments_lexer": "ipython3",
   "version": "3.11.5"
  }
 },
 "nbformat": 4,
 "nbformat_minor": 5
}
