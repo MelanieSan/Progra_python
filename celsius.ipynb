{
 "cells": [
  {
   "cell_type": "code",
   "execution_count": 2,
   "id": "dd9aad0f-19f1-4fe0-85f1-7318b8d8d28a",
   "metadata": {},
   "outputs": [
    {
     "name": "stdin",
     "output_type": "stream",
     "text": [
      "Ingrese la temperatura en grados Celsius:  34\n"
     ]
    },
    {
     "name": "stdout",
     "output_type": "stream",
     "text": [
      "34.0 grados Celsius son 93.2 grados Fahrenheit.\n"
     ]
    }
   ],
   "source": [
    "def celsius_a_fahrenheit(grados_celsius):\n",
    "    grados_fahrenheit = (grados_celsius * 9/5) + 32\n",
    "    return grados_fahrenheit\n",
    "\n",
    "\n",
    "celsius = float(input(\"Ingrese la temperatura en grados Celsius: \"))\n",
    "\n",
    " \n",
    "fahrenheit = celsius_a_fahrenheit(celsius)\n",
    "print(f\"{celsius} grados Celsius son {fahrenheit} grados Fahrenheit.\")\n"
   ]
  },
  {
   "cell_type": "code",
   "execution_count": null,
   "id": "9031b0bb-8648-4f6b-99f3-395bbc724ab6",
   "metadata": {},
   "outputs": [],
   "source": []
  }
 ],
 "metadata": {
  "kernelspec": {
   "display_name": "anaconda-panel-2023.05-py310",
   "language": "python",
   "name": "conda-env-anaconda-panel-2023.05-py310-py"
  },
  "language_info": {
   "codemirror_mode": {
    "name": "ipython",
    "version": 3
   },
   "file_extension": ".py",
   "mimetype": "text/x-python",
   "name": "python",
   "nbconvert_exporter": "python",
   "pygments_lexer": "ipython3",
   "version": "3.11.5"
  }
 },
 "nbformat": 4,
 "nbformat_minor": 5
}
