{
 "cells": [
  {
   "cell_type": "code",
   "execution_count": 5,
   "id": "cae7f52c-7e74-4e2c-ae0d-e669e8d27514",
   "metadata": {},
   "outputs": [
    {
     "name": "stdout",
     "output_type": "stream",
     "text": [
      "Radio: 5.0\n",
      "Área: 78.53999999999999\n"
     ]
    }
   ],
   "source": [
    "class Circulo():\n",
    "    diametro = 10\n",
    "    __valor_PI = 3.1416\n",
    "\n",
    "    @property\n",
    "    def radio(self):\n",
    "        return self.diametro / 2\n",
    "\n",
    "    def calcularArea(self):\n",
    "        return self.__valor_PI * (self.radio**2)\n",
    "\n",
    "\n",
    "calculo = Circulo()\n",
    "\n",
    "print(\"Radio:\", calculo.radio)\n",
    "print(\"Área:\", calculo.calcularArea())\n"
   ]
  },
  {
   "cell_type": "code",
   "execution_count": null,
   "id": "d55a163b-8404-4d3b-b537-b810b5c1353f",
   "metadata": {},
   "outputs": [],
   "source": []
  }
 ],
 "metadata": {
  "kernelspec": {
   "display_name": "anaconda-panel-2023.05-py310",
   "language": "python",
   "name": "conda-env-anaconda-panel-2023.05-py310-py"
  },
  "language_info": {
   "codemirror_mode": {
    "name": "ipython",
    "version": 3
   },
   "file_extension": ".py",
   "mimetype": "text/x-python",
   "name": "python",
   "nbconvert_exporter": "python",
   "pygments_lexer": "ipython3",
   "version": "3.11.5"
  }
 },
 "nbformat": 4,
 "nbformat_minor": 5
}
